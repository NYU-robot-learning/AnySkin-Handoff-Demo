{
 "cells": [
  {
   "cell_type": "code",
   "execution_count": null,
   "metadata": {},
   "outputs": [],
   "source": [
    "%load_ext autoreload\n",
    "%autoreload 2"
   ]
  },
  {
   "cell_type": "code",
   "execution_count": 365,
   "metadata": {},
   "outputs": [],
   "source": [
    "import sys\n",
    "sys.path.append('..')\n",
    "\n",
    "import matplotlib.pyplot as plt\n",
    "import numpy as np"
   ]
  },
  {
   "cell_type": "code",
   "execution_count": 366,
   "metadata": {},
   "outputs": [],
   "source": [
    "from train import Dataset"
   ]
  },
  {
   "cell_type": "code",
   "execution_count": 367,
   "metadata": {},
   "outputs": [],
   "source": [
    "train_dataset = Dataset('../data', window_len=10, pull_len=50, normalize_max=100)"
   ]
  },
  {
   "cell_type": "code",
   "execution_count": null,
   "metadata": {},
   "outputs": [],
   "source": [
    "len(train_dataset.samples)"
   ]
  },
  {
   "cell_type": "code",
   "execution_count": null,
   "metadata": {},
   "outputs": [],
   "source": [
    "num_neg = 0\n",
    "num_pos = 0\n",
    "\n",
    "for sample in train_dataset.samples:\n",
    "    if sample[1] == 0:\n",
    "        num_neg += 1\n",
    "    else:\n",
    "        num_pos += 1\n",
    "\n",
    "print(num_neg, num_pos)"
   ]
  },
  {
   "cell_type": "code",
   "execution_count": null,
   "metadata": {},
   "outputs": [],
   "source": [
    "def viz_seq(i):\n",
    "    x, y = train_dataset[i]\n",
    "    # x = x.reshape(-1, 15)\n",
    "\n",
    "    plt.close()\n",
    "    plt.figure()\n",
    "    plt.plot(x)\n",
    "    plt.title('Pull: {}'.format(y))\n",
    "    plt.ylim(-1, 1)\n",
    "    plt.show()\n",
    "\n",
    "viz_seq(35)"
   ]
  },
  {
   "cell_type": "code",
   "execution_count": 371,
   "metadata": {},
   "outputs": [],
   "source": [
    "# total_force = [x.sum().abs() for x, y in train_dataset.samples]\n",
    "\n",
    "# xy_mask = [0, 1, 3, 4, 6, 7, 9, 10, 12, 13]\n",
    "\n",
    "xy_total_force = np.array([np.abs((x).sum()) for x, y in train_dataset.samples])\n",
    "total_deviation = np.array([x.std(axis=0).sum() for x, y in train_dataset.samples])\n",
    "total_diff = np.array([x.max() - x.min() for x, y in train_dataset.samples])\n",
    "\n",
    "\n",
    "features = np.concatenate((total_diff.reshape(-1, 1), xy_total_force.reshape(-1, 1), total_deviation.reshape(-1, 1)), axis=1)\n",
    "labels = np.array([y for x, y in train_dataset.samples])"
   ]
  },
  {
   "cell_type": "code",
   "execution_count": null,
   "metadata": {},
   "outputs": [],
   "source": [
    "# solve logistics regression for features and labels\n",
    "from sklearn.linear_model import LogisticRegression\n",
    "from sklearn.model_selection import train_test_split\n",
    "from sklearn.metrics import classification_report\n",
    "\n",
    "X_train, X_test, y_train, y_test = train_test_split(features, labels, test_size=0.2, random_state=42)\n",
    "\n",
    "clf = LogisticRegression(random_state=0, solver='lbfgs').fit(X_train, y_train)\n",
    "y_pred = clf.predict(X_test)\n",
    "\n",
    "print(classification_report(y_test, y_pred))"
   ]
  },
  {
   "cell_type": "code",
   "execution_count": null,
   "metadata": {},
   "outputs": [],
   "source": [
    "clf.coef_"
   ]
  },
  {
   "cell_type": "code",
   "execution_count": 379,
   "metadata": {},
   "outputs": [],
   "source": [
    "import pickle\n",
    "\n",
    "with open(\"../checkpoints/handover/linear.pkl\", \"wb\") as f:\n",
    "    pickle.dump(clf, f)"
   ]
  },
  {
   "cell_type": "code",
   "execution_count": null,
   "metadata": {},
   "outputs": [],
   "source": [
    "correct = 0\n",
    "total_diff_threshold = 0.25\n",
    "for i in range(len(labels)):\n",
    "    correct += (total_diff[i] > total_diff_threshold) == labels[i]\n",
    "\n",
    "print(correct / len(labels))"
   ]
  },
  {
   "cell_type": "code",
   "execution_count": null,
   "metadata": {},
   "outputs": [],
   "source": [
    "# plot the total force with the labels as a scatter plot\n",
    "plt.figure(figsize=(10, 5))\n",
    "plt.scatter(total_diff, xy_total_force, c=labels, cmap='viridis', marker='.', alpha=0.5)\n",
    "\n",
    "# plot the decision boundary\n",
    "x = np.linspace(0, 1, 100)\n",
    "y = (-clf.coef_[0][0] * x - clf.intercept_) / clf.coef_[0][1]\n",
    "\n",
    "plt.plot(x, y, label='Decision Boundary')\n",
    "\n",
    "plt.xlabel('Total Force')\n",
    "plt.ylabel('Total Diff')\n",
    "plt.colorbar()\n",
    "plt.show()\n"
   ]
  }
 ],
 "metadata": {
  "kernelspec": {
   "display_name": ".venv",
   "language": "python",
   "name": "python3"
  },
  "language_info": {
   "codemirror_mode": {
    "name": "ipython",
    "version": 3
   },
   "file_extension": ".py",
   "mimetype": "text/x-python",
   "name": "python",
   "nbconvert_exporter": "python",
   "pygments_lexer": "ipython3",
   "version": "3.10.14"
  }
 },
 "nbformat": 4,
 "nbformat_minor": 2
}
